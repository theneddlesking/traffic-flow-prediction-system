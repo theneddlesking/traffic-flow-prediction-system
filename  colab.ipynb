{
  "cells": [
    {
      "cell_type": "markdown",
      "metadata": {},
      "source": [
        "# Training the Model on Colab\n",
        "\n",
        "To train the model faster you can use Google Colab GPU for free.\n",
        "\n",
        "## Step 1.\n",
        "\n",
        "Go to https://colab.google/ and then click \"New Notebook\"\n",
        "\n",
        "## Step 2.\n",
        "\n",
        "Click the drop down arrow to the left of the \"Gemini\" tab. And click change \"Change runtime type\". Select T4 GPU."
      ]
    },
    {
      "cell_type": "markdown",
      "metadata": {},
      "source": [
        "## Step 3. Install the project\n",
        "\n",
        "Install the project by copying the following command into the codeblock and click run."
      ]
    },
    {
      "cell_type": "code",
      "execution_count": null,
      "metadata": {
        "vscode": {
          "languageId": "plaintext"
        }
      },
      "outputs": [],
      "source": [
        "!git clone https://github.com/theneddlesking/traffic-flow-prediction-system"
      ]
    },
    {
      "cell_type": "markdown",
      "metadata": {},
      "source": [
        "## Step 4. Train the model\n",
        "\n",
        "Now you can train the model by copying the command into a codeblock and clicking run."
      ]
    },
    {
      "cell_type": "code",
      "execution_count": null,
      "metadata": {
        "vscode": {
          "languageId": "plaintext"
        }
      },
      "outputs": [],
      "source": [
        "!python ./traffic-flow-prediction-system/train.py"
      ]
    }
  ],
  "metadata": {
    "accelerator": "GPU",
    "colab": {
      "gpuType": "T4",
      "provenance": []
    },
    "kernelspec": {
      "display_name": "Python 3",
      "name": "python3"
    },
    "language_info": {
      "name": "python"
    }
  },
  "nbformat": 4,
  "nbformat_minor": 0
}
